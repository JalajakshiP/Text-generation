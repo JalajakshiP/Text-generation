{
  "cells": [
    {
      "cell_type": "markdown",
      "metadata": {
        "id": "0u8YT6mcCpWW"
      },
      "source": [
        "Questions for Week0\n",
        "\n",
        "Do not change anything in the code for numpy part  ..... just write the functions with the content your are given.\n",
        "\n",
        "Request: Refrain from using any external source for coding for this week, like chatgpt(try to do it by youself as much as you can )\n",
        "\n",
        "\n",
        "\n",
        "\n"
      ]
    },
    {
      "cell_type": "markdown",
      "metadata": {
        "id": "QOQvbruuCpWZ"
      },
      "source": [
        "While using numpy, we mostly deal with matrix operations. So, let's building our own inverse function\n",
        "\n",
        "This function:\\\n",
        "1 Takes a np.array of size nXn ... it is your job to check if the matrix is a square matrix or not :)\\\n",
        "2 Returns the inverse of the matrix if possible, otherwise, returns a matrix of 0s"
      ]
    },
    {
      "cell_type": "code",
      "execution_count": null,
      "metadata": {
        "metadata": {},
        "id": "IQB3FhshCpWZ"
      },
      "outputs": [],
      "source": [
        "import numpy as np\n",
        "\n",
        "def inverse(matrix):\n",
        "    '''\n",
        "    implement your function here\n",
        "    you are not allowed to use the inbuilt inverse function in numpy\n",
        "    feel free to use your favourite algorithm to calculate the inverse :)\n",
        "    '''\n",
        "    pass"
      ]
    },
    {
      "cell_type": "markdown",
      "metadata": {
        "id": "x5U63eTACpWa"
      },
      "source": [
        "Do not believe your code this easily man.\n",
        "\n",
        "Now you will write a code to test out if your inverse is indeed correct\n",
        "\n",
        "The test function will take an np.array\n",
        "\n",
        "The test function will return:\\\n",
        "1 True, if the inverse is correct\\\n",
        "2 False if the inverse is incorrect\n",
        "\n",
        "Isn't it amazing :)"
      ]
    },
    {
      "cell_type": "code",
      "execution_count": null,
      "metadata": {
        "metadata": {},
        "id": "f2y3euGDCpWb"
      },
      "outputs": [],
      "source": [
        "def test(matrix):\n",
        "    '''\n",
        "    you will have to use np.linalg.inv to get the inverse and check the value got from your inverse function\n",
        "    ofc you will have to see if the matrix is invertible or not :)\n",
        "    before that, if it is a square matrix or not :)\n",
        "    '''\n",
        "    return True"
      ]
    },
    {
      "cell_type": "markdown",
      "metadata": {
        "id": "j8Bxki0aCpWb"
      },
      "source": [
        "\n",
        "Here is the code to test out your implementations of the upper two functions."
      ]
    },
    {
      "cell_type": "code",
      "execution_count": null,
      "metadata": {
        "id": "7kJ1FmskCpWb"
      },
      "outputs": [],
      "source": [
        "flag = True\n",
        "for i in range(908):\n",
        "    n = np.random.randint(2,6)\n",
        "    m = n + (np.random.randint(0,2) % 2 != 0)\n",
        "    matrix = np.random.randint(0, 20, size=(n,m)) + np.random.rand(n,m)\n",
        "    if (not test(matrix)):\n",
        "        flag = False\n",
        "        print(\"You passed\", i, \"testcases:(\")\n",
        "        break\n",
        "if (flag):\n",
        "    print(\"Congrats!!! You passed all testcases\")"
      ]
    },
    {
      "cell_type": "markdown",
      "metadata": {
        "id": "yebEzWIZCpWb"
      },
      "source": [
        "\n",
        "\n",
        "Let's move on to pandas and matplotlib"
      ]
    },
    {
      "cell_type": "code",
      "execution_count": null,
      "metadata": {
        "id": "PWwsfOgGCpWb"
      },
      "outputs": [],
      "source": [
        "import pandas as pd\n",
        "import matplotlib"
      ]
    },
    {
      "cell_type": "markdown",
      "source": [
        "Here you are going to do data analysis on the given SEER Breast Cancer Dataset"
      ],
      "metadata": {
        "id": "pbIzTRRRWP1A"
      }
    },
    {
      "cell_type": "markdown",
      "metadata": {
        "id": "fzEaGaftCpWc"
      },
      "source": [
        "Question 1: Tumor Size and Survival Analysis\n",
        "\n",
        "Task:\n",
        "\n",
        "Investigate the relationship between tumor size and survival.\n",
        "\n",
        "1.Filter the data to include only cases where tumor size is greater than 20 mm.\n",
        "\n",
        "2.Group the data by cancer stage and calculate the average survival months for each stage.\n",
        "\n",
        "3.Create a line plot showing the relationship between cancer stage and average survival months."
      ]
    },
    {
      "cell_type": "code",
      "source": [
        "#code here"
      ],
      "metadata": {
        "id": "QU59hgz4HfMS"
      },
      "execution_count": null,
      "outputs": []
    },
    {
      "cell_type": "code",
      "source": [],
      "metadata": {
        "id": "ybVzQjGyHgyq"
      },
      "execution_count": null,
      "outputs": []
    },
    {
      "cell_type": "markdown",
      "source": [
        "Question 2: Estrogen Receptor Status vs. Regional Nodes\n",
        "\n",
        "Task:\n",
        "\n",
        "Examine how estrogen receptor status affects regional lymph node involvement.\n",
        "\n",
        "1.Group the data by estrogen receptor status (positive or negative) and calculate the average number of regional nodes positive.\n",
        "\n",
        "2.Create a bar plot to compare the average number of positive nodes for the two groups.\n",
        "\n",
        "3.Interpret the results and discuss the implications of the findings."
      ],
      "metadata": {
        "id": "uqhfdBAiHhRR"
      }
    },
    {
      "cell_type": "code",
      "source": [
        "#code here"
      ],
      "metadata": {
        "id": "gBwuO9zdJSHZ"
      },
      "execution_count": null,
      "outputs": []
    },
    {
      "cell_type": "code",
      "source": [],
      "metadata": {
        "id": "VZ8in3KOJSEF"
      },
      "execution_count": null,
      "outputs": []
    }
  ],
  "metadata": {
    "kernelspec": {
      "display_name": "Python 3",
      "language": "python",
      "name": "python3"
    },
    "language_info": {
      "codemirror_mode": {
        "name": "ipython",
        "version": 3
      },
      "file_extension": ".py",
      "mimetype": "text/x-python",
      "name": "python",
      "nbconvert_exporter": "python",
      "pygments_lexer": "ipython3",
      "version": "3.10.12"
    },
    "colab": {
      "provenance": []
    }
  },
  "nbformat": 4,
  "nbformat_minor": 0
}